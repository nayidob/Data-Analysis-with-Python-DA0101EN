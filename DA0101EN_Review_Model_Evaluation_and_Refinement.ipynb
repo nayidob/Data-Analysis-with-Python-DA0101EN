{
  "nbformat": 4,
  "nbformat_minor": 0,
  "metadata": {
    "anaconda-cloud": {},
    "kernelspec": {
      "display_name": "Python 3",
      "language": "python",
      "name": "python3"
    },
    "language_info": {
      "codemirror_mode": {
        "name": "ipython",
        "version": 3
      },
      "file_extension": ".py",
      "mimetype": "text/x-python",
      "name": "python",
      "nbconvert_exporter": "python",
      "pygments_lexer": "ipython3",
      "version": "3.6.7"
    },
    "colab": {
      "name": "DA0101EN-Review-Model-Evaluation-and-Refinement.ipynb",
      "provenance": [],
      "include_colab_link": true
    }
  },
  "cells": [
    {
      "cell_type": "markdown",
      "metadata": {
        "id": "view-in-github",
        "colab_type": "text"
      },
      "source": [
        "<a href=\"https://colab.research.google.com/github/nayidob/Data-Analysis-with-Python-DA0101EN/blob/master/DA0101EN_Review_Model_Evaluation_and_Refinement.ipynb\" target=\"_parent\"><img src=\"https://colab.research.google.com/assets/colab-badge.svg\" alt=\"Open In Colab\"/></a>"
      ]
    },
    {
      "cell_type": "markdown",
      "metadata": {
        "id": "J9E-NvbetctO",
        "colab_type": "text"
      },
      "source": [
        "<div class=\"alert alert-block alert-info\" style=\"margin-top: 20px\">\n",
        "    <a href=\"http://cocl.us/DA0101EN_NotbookLink_Top\">\n",
        "         <img src=\"https://s3-api.us-geo.objectstorage.softlayer.net/cf-courses-data/CognitiveClass/DA0101EN/Images/TopAd.png\" width=\"750\" align=\"center\">\n",
        "    </a>\n",
        "</div>"
      ]
    },
    {
      "cell_type": "markdown",
      "metadata": {
        "id": "fZ-5oQVBtctQ",
        "colab_type": "text"
      },
      "source": [
        "<a href=\"https://www.bigdatauniversity.com\"><img src=\"https://s3-api.us-geo.objectstorage.softlayer.net/cf-courses-data/CognitiveClass/DA0101EN/Images/CCLog.png\" width=300, align=\"center\"></a>\n",
        "\n",
        "<h1 align=center><font size=5>Data Analysis with Python</font></h1>"
      ]
    },
    {
      "cell_type": "markdown",
      "metadata": {
        "id": "v_Qvijf5tctR",
        "colab_type": "text"
      },
      "source": [
        "<h1>Module 5: Model Evaluation and Refinement</h1>\n",
        "\n",
        "We have built models and made predictions of vehicle prices. Now we will determine how accurate these predictions are. "
      ]
    },
    {
      "cell_type": "markdown",
      "metadata": {
        "id": "Oycc8pq0tctS",
        "colab_type": "text"
      },
      "source": [
        "<h1>Table of content</h1>\n",
        "<ul>\n",
        "    <li><a href=\"#ref1\">Model Evaluation </a></li>\n",
        "    <li><a href=\"#ref2\">Over-fitting, Under-fitting and Model Selection </a></li>\n",
        "    <li><a href=\"#ref3\">Ridge Regression </a></li>\n",
        "    <li><a href=\"#ref4\">Grid Search</a></li>\n",
        "</ul>"
      ]
    },
    {
      "cell_type": "markdown",
      "metadata": {
        "id": "XAw7StI2tctT",
        "colab_type": "text"
      },
      "source": [
        "This dataset was hosted on IBM Cloud object click <a href=\"https://cocl.us/cognitive_class_DA0101EN_objectstorage\">HERE</a> for free storage."
      ]
    },
    {
      "cell_type": "code",
      "metadata": {
        "id": "GZ8CLBBMtctU",
        "colab_type": "code",
        "colab": {}
      },
      "source": [
        "import pandas as pd\n",
        "import numpy as np\n",
        "\n",
        "# Import clean data \n",
        "path = 'https://s3-api.us-geo.objectstorage.softlayer.net/cf-courses-data/CognitiveClass/DA0101EN/module_5_auto.csv'\n",
        "df = pd.read_csv(path)"
      ],
      "execution_count": 0,
      "outputs": []
    },
    {
      "cell_type": "code",
      "metadata": {
        "id": "ty4K3YYctctb",
        "colab_type": "code",
        "colab": {}
      },
      "source": [
        "df.to_csv('module_5_auto.csv')"
      ],
      "execution_count": 0,
      "outputs": []
    },
    {
      "cell_type": "markdown",
      "metadata": {
        "id": "0hTZcc_Qtctf",
        "colab_type": "text"
      },
      "source": [
        " First lets only use numeric data "
      ]
    },
    {
      "cell_type": "code",
      "metadata": {
        "scrolled": false,
        "id": "KmDk5zzGtctg",
        "colab_type": "code",
        "colab": {}
      },
      "source": [
        "df=df._get_numeric_data()\n",
        "df.head()"
      ],
      "execution_count": 0,
      "outputs": []
    },
    {
      "cell_type": "markdown",
      "metadata": {
        "id": "hUQPijEvtctl",
        "colab_type": "text"
      },
      "source": [
        " Libraries for plotting "
      ]
    },
    {
      "cell_type": "code",
      "metadata": {
        "id": "6hzNB5xptctm",
        "colab_type": "code",
        "colab": {}
      },
      "source": [
        "%%capture\n",
        "! pip install ipywidgets"
      ],
      "execution_count": 0,
      "outputs": []
    },
    {
      "cell_type": "code",
      "metadata": {
        "id": "iCSk21ZXtctr",
        "colab_type": "code",
        "colab": {}
      },
      "source": [
        "from IPython.display import display\n",
        "from IPython.html import widgets \n",
        "from IPython.display import display\n",
        "from ipywidgets import interact, interactive, fixed, interact_manual"
      ],
      "execution_count": 0,
      "outputs": []
    },
    {
      "cell_type": "markdown",
      "metadata": {
        "id": "qmi5jZuqtctw",
        "colab_type": "text"
      },
      "source": [
        "<h2>Functions for plotting</h2>"
      ]
    },
    {
      "cell_type": "code",
      "metadata": {
        "id": "UoQu_0MBtctx",
        "colab_type": "code",
        "colab": {}
      },
      "source": [
        "def DistributionPlot(RedFunction, BlueFunction, RedName, BlueName, Title):\n",
        "    width = 12\n",
        "    height = 10\n",
        "    plt.figure(figsize=(width, height))\n",
        "\n",
        "    ax1 = sns.distplot(RedFunction, hist=False, color=\"r\", label=RedName)\n",
        "    ax2 = sns.distplot(BlueFunction, hist=False, color=\"b\", label=BlueName, ax=ax1)\n",
        "\n",
        "    plt.title(Title)\n",
        "    plt.xlabel('Price (in dollars)')\n",
        "    plt.ylabel('Proportion of Cars')\n",
        "\n",
        "    plt.show()\n",
        "    plt.close()"
      ],
      "execution_count": 0,
      "outputs": []
    },
    {
      "cell_type": "code",
      "metadata": {
        "id": "tKTX7w-otct2",
        "colab_type": "code",
        "colab": {}
      },
      "source": [
        "def PollyPlot(xtrain, xtest, y_train, y_test, lr,poly_transform):\n",
        "    width = 12\n",
        "    height = 10\n",
        "    plt.figure(figsize=(width, height))\n",
        "    \n",
        "    \n",
        "    #training data \n",
        "    #testing data \n",
        "    # lr:  linear regression object \n",
        "    #poly_transform:  polynomial transformation object \n",
        " \n",
        "    xmax=max([xtrain.values.max(), xtest.values.max()])\n",
        "\n",
        "    xmin=min([xtrain.values.min(), xtest.values.min()])\n",
        "\n",
        "    x=np.arange(xmin, xmax, 0.1)\n",
        "\n",
        "\n",
        "    plt.plot(xtrain, y_train, 'ro', label='Training Data')\n",
        "    plt.plot(xtest, y_test, 'go', label='Test Data')\n",
        "    plt.plot(x, lr.predict(poly_transform.fit_transform(x.reshape(-1, 1))), label='Predicted Function')\n",
        "    plt.ylim([-10000, 60000])\n",
        "    plt.ylabel('Price')\n",
        "    plt.legend()"
      ],
      "execution_count": 0,
      "outputs": []
    },
    {
      "cell_type": "markdown",
      "metadata": {
        "id": "-mdwshLXtct6",
        "colab_type": "text"
      },
      "source": [
        "<h1 id=\"ref1\">Part 1: Training and Testing</h1>\n",
        "\n",
        "<p>An important step in testing your model is to split your data into training and testing data. We will place the target data <b>price</b> in a separate dataframe <b>y</b>:</p>"
      ]
    },
    {
      "cell_type": "code",
      "metadata": {
        "id": "u5_w9jNttct7",
        "colab_type": "code",
        "colab": {}
      },
      "source": [
        "y_data = df['price']"
      ],
      "execution_count": 0,
      "outputs": []
    },
    {
      "cell_type": "markdown",
      "metadata": {
        "id": "s_Jg3N7Atct_",
        "colab_type": "text"
      },
      "source": [
        "drop price data in x data"
      ]
    },
    {
      "cell_type": "code",
      "metadata": {
        "id": "w-54jDjjtcuA",
        "colab_type": "code",
        "colab": {}
      },
      "source": [
        "x_data=df.drop('price',axis=1)"
      ],
      "execution_count": 0,
      "outputs": []
    },
    {
      "cell_type": "markdown",
      "metadata": {
        "id": "da7KhGuZtcuG",
        "colab_type": "text"
      },
      "source": [
        "Now we randomly split our data into training and testing data  using the function <b>train_test_split</b>. "
      ]
    },
    {
      "cell_type": "code",
      "metadata": {
        "id": "tCnz7MrItcuG",
        "colab_type": "code",
        "colab": {}
      },
      "source": [
        "from sklearn.model_selection import train_test_split\n",
        "\n",
        "\n",
        "x_train, x_test, y_train, y_test = train_test_split(x_data, y_data, test_size=0.15, random_state=1)\n",
        "\n",
        "\n",
        "print(\"number of test samples :\", x_test.shape[0])\n",
        "print(\"number of training samples:\",x_train.shape[0])\n"
      ],
      "execution_count": 0,
      "outputs": []
    },
    {
      "cell_type": "markdown",
      "metadata": {
        "id": "8ADBoTI3tcuL",
        "colab_type": "text"
      },
      "source": [
        "The <b>test_size</b> parameter sets the proportion of data that is split into the testing set. In the above, the testing set is set to 10% of the total dataset. "
      ]
    },
    {
      "cell_type": "markdown",
      "metadata": {
        "id": "Ycx02PxitcuM",
        "colab_type": "text"
      },
      "source": [
        "<div class=\"alert alert-danger alertdanger\" style=\"margin-top: 20px\">\n",
        "<h1> Question  #1):</h1>\n",
        "\n",
        "<b>Use the function \"train_test_split\" to split up the data set such that 40% of the data samples will be utilized for testing, set the parameter \"random_state\" equal to zero. The output of the function should be the following:  \"x_train_1\" , \"x_test_1\", \"y_train_1\" and  \"y_test_1\".</b>\n",
        "</div>"
      ]
    },
    {
      "cell_type": "code",
      "metadata": {
        "id": "rjz-rRFItcuM",
        "colab_type": "code",
        "colab": {}
      },
      "source": [
        "# Write your code below and press Shift+Enter to execute \n"
      ],
      "execution_count": 0,
      "outputs": []
    },
    {
      "cell_type": "markdown",
      "metadata": {
        "id": "f24t-RaktcuQ",
        "colab_type": "text"
      },
      "source": [
        "Double-click <b>here</b> for the solution.\n",
        "\n",
        "<!-- The answer is below:\n",
        "\n",
        "x_train1, x_test1, y_train1, y_test1 = train_test_split(x_data, y_data, test_size=0.4, random_state=0) \n",
        "print(\"number of test samples :\", x_test1.shape[0])\n",
        "print(\"number of training samples:\",x_train1.shape[0])\n",
        "\n",
        "-->"
      ]
    },
    {
      "cell_type": "markdown",
      "metadata": {
        "id": "C8QEfknqtcuR",
        "colab_type": "text"
      },
      "source": [
        "Let's import <b>LinearRegression</b> from the module <b>linear_model</b>."
      ]
    },
    {
      "cell_type": "code",
      "metadata": {
        "id": "6hxOrY0ttcuS",
        "colab_type": "code",
        "colab": {}
      },
      "source": [
        "from sklearn.linear_model import LinearRegression"
      ],
      "execution_count": 0,
      "outputs": []
    },
    {
      "cell_type": "markdown",
      "metadata": {
        "id": "EZaxzzl2tcuV",
        "colab_type": "text"
      },
      "source": [
        " We create a Linear Regression object:"
      ]
    },
    {
      "cell_type": "code",
      "metadata": {
        "id": "za3fMn31tcuW",
        "colab_type": "code",
        "colab": {}
      },
      "source": [
        "lre=LinearRegression()"
      ],
      "execution_count": 0,
      "outputs": []
    },
    {
      "cell_type": "markdown",
      "metadata": {
        "id": "MlIWs5rgtcua",
        "colab_type": "text"
      },
      "source": [
        "we fit the model using the feature horsepower "
      ]
    },
    {
      "cell_type": "code",
      "metadata": {
        "id": "nHqFFMaxtcua",
        "colab_type": "code",
        "colab": {}
      },
      "source": [
        "lre.fit(x_train[['horsepower']], y_train)"
      ],
      "execution_count": 0,
      "outputs": []
    },
    {
      "cell_type": "markdown",
      "metadata": {
        "id": "5uTOpa3stcue",
        "colab_type": "text"
      },
      "source": [
        "Let's Calculate the R^2 on the test data:"
      ]
    },
    {
      "cell_type": "code",
      "metadata": {
        "id": "NAfkOlWOtcuf",
        "colab_type": "code",
        "colab": {}
      },
      "source": [
        "lre.score(x_test[['horsepower']], y_test)"
      ],
      "execution_count": 0,
      "outputs": []
    },
    {
      "cell_type": "markdown",
      "metadata": {
        "id": "5B8XO9-btcuk",
        "colab_type": "text"
      },
      "source": [
        "we can see the R^2 is much smaller using the test data."
      ]
    },
    {
      "cell_type": "code",
      "metadata": {
        "id": "MA12aGtFtcul",
        "colab_type": "code",
        "colab": {}
      },
      "source": [
        "lre.score(x_train[['horsepower']], y_train)"
      ],
      "execution_count": 0,
      "outputs": []
    },
    {
      "cell_type": "markdown",
      "metadata": {
        "id": "RVY78rrbtcup",
        "colab_type": "text"
      },
      "source": [
        "<div class=\"alert alert-danger alertdanger\" style=\"margin-top: 20px\">\n",
        "<h1> Question  #2): </h1>\n",
        "<b> \n",
        "Find the R^2  on the test data using 90% of the data for training data\n",
        "</b>\n",
        "</div>"
      ]
    },
    {
      "cell_type": "code",
      "metadata": {
        "id": "6_6Zwskatcup",
        "colab_type": "code",
        "colab": {}
      },
      "source": [
        "# Write your code below and press Shift+Enter to execute \n"
      ],
      "execution_count": 0,
      "outputs": []
    },
    {
      "cell_type": "markdown",
      "metadata": {
        "id": "Svu13RNUtcut",
        "colab_type": "text"
      },
      "source": [
        "Double-click <b>here</b> for the solution.\n",
        "\n",
        "<!-- The answer is below:\n",
        "\n",
        "x_train1, x_test1, y_train1, y_test1 = train_test_split(x_data, y_data, test_size=0.1, random_state=0)\n",
        "lre.fit(x_train1[['horsepower']],y_train1)\n",
        "lre.score(x_test1[['horsepower']],y_test1)\n",
        "\n",
        "-->"
      ]
    },
    {
      "cell_type": "markdown",
      "metadata": {
        "id": "3EdlguM5tcuu",
        "colab_type": "text"
      },
      "source": [
        " Sometimes you do not have sufficient testing data; as a result, you may want to perform Cross-validation. Let's  go over several methods that you can use for  Cross-validation. "
      ]
    },
    {
      "cell_type": "markdown",
      "metadata": {
        "id": "4uX7pdUNtcuv",
        "colab_type": "text"
      },
      "source": [
        "<h2>Cross-validation Score</h2>"
      ]
    },
    {
      "cell_type": "markdown",
      "metadata": {
        "id": "vw50upMKtcuv",
        "colab_type": "text"
      },
      "source": [
        "Lets import <b>model_selection</b> from the module <b>cross_val_score</b>."
      ]
    },
    {
      "cell_type": "code",
      "metadata": {
        "id": "HfTMyn_Dtcuw",
        "colab_type": "code",
        "colab": {}
      },
      "source": [
        "from sklearn.model_selection import cross_val_score"
      ],
      "execution_count": 0,
      "outputs": []
    },
    {
      "cell_type": "markdown",
      "metadata": {
        "id": "auPGisowtcu0",
        "colab_type": "text"
      },
      "source": [
        "We input the object, the feature in this case ' horsepower', the target data (y_data). The parameter 'cv'  determines the number of folds; in this case 4. "
      ]
    },
    {
      "cell_type": "code",
      "metadata": {
        "id": "byy2ftu3tcu0",
        "colab_type": "code",
        "colab": {}
      },
      "source": [
        "Rcross = cross_val_score(lre, x_data[['horsepower']], y_data, cv=4)"
      ],
      "execution_count": 0,
      "outputs": []
    },
    {
      "cell_type": "markdown",
      "metadata": {
        "id": "mMvqNsS5tcu4",
        "colab_type": "text"
      },
      "source": [
        "The default scoring is R^2; each element in the array has the average  R^2 value in the fold:"
      ]
    },
    {
      "cell_type": "code",
      "metadata": {
        "id": "BIc_cxQWtcu7",
        "colab_type": "code",
        "colab": {}
      },
      "source": [
        "Rcross"
      ],
      "execution_count": 0,
      "outputs": []
    },
    {
      "cell_type": "markdown",
      "metadata": {
        "id": "Q1NEnnUktcu_",
        "colab_type": "text"
      },
      "source": [
        " We can calculate the average and standard deviation of our estimate:"
      ]
    },
    {
      "cell_type": "code",
      "metadata": {
        "id": "KFOkbwJQtcu_",
        "colab_type": "code",
        "colab": {}
      },
      "source": [
        "print(\"The mean of the folds are\", Rcross.mean(), \"and the standard deviation is\" , Rcross.std())"
      ],
      "execution_count": 0,
      "outputs": []
    },
    {
      "cell_type": "markdown",
      "metadata": {
        "id": "UDfO7xo6tcvE",
        "colab_type": "text"
      },
      "source": [
        "We can use negative squared error as a score by setting the parameter  'scoring' metric to 'neg_mean_squared_error'. "
      ]
    },
    {
      "cell_type": "code",
      "metadata": {
        "id": "J1CmvlictcvF",
        "colab_type": "code",
        "colab": {}
      },
      "source": [
        "-1 * cross_val_score(lre,x_data[['horsepower']], y_data,cv=4,scoring='neg_mean_squared_error')"
      ],
      "execution_count": 0,
      "outputs": []
    },
    {
      "cell_type": "markdown",
      "metadata": {
        "id": "3wfpQ6XZtcvI",
        "colab_type": "text"
      },
      "source": [
        "<div class=\"alert alert-danger alertdanger\" style=\"margin-top: 20px\">\n",
        "<h1> Question  #3): </h1>\n",
        "<b> \n",
        "Calculate the average R^2 using two folds, find the average R^2 for the second fold utilizing the horsepower as a feature : \n",
        "</b>\n",
        "</div>"
      ]
    },
    {
      "cell_type": "code",
      "metadata": {
        "id": "cO0TeljytcvJ",
        "colab_type": "code",
        "colab": {}
      },
      "source": [
        "# Write your code below and press Shift+Enter to execute \n"
      ],
      "execution_count": 0,
      "outputs": []
    },
    {
      "cell_type": "markdown",
      "metadata": {
        "id": "iT3DuE3ftcvM",
        "colab_type": "text"
      },
      "source": [
        "Double-click <b>here</b> for the solution.\n",
        "\n",
        "<!-- The answer is below:\n",
        "\n",
        "Rc=cross_val_score(lre,x_data[['horsepower']], y_data,cv=2)\n",
        "Rc[1]\n",
        "\n",
        "-->"
      ]
    },
    {
      "cell_type": "markdown",
      "metadata": {
        "id": "ExxsboMAtcvN",
        "colab_type": "text"
      },
      "source": [
        "You can also use the function 'cross_val_predict' to predict the output. The function splits up the data into the specified number of folds, using one fold to get a prediction while the rest of the folds are used as test data. First import the function:"
      ]
    },
    {
      "cell_type": "code",
      "metadata": {
        "id": "WXV-qZ8LtcvO",
        "colab_type": "code",
        "colab": {}
      },
      "source": [
        "from sklearn.model_selection import cross_val_predict"
      ],
      "execution_count": 0,
      "outputs": []
    },
    {
      "cell_type": "markdown",
      "metadata": {
        "id": "oGLXKqIXtcvS",
        "colab_type": "text"
      },
      "source": [
        "We input the object, the feature in this case <b>'horsepower'</b> , the target data <b>y_data</b>. The parameter 'cv' determines the number of folds; in this case 4. We can produce an output:"
      ]
    },
    {
      "cell_type": "code",
      "metadata": {
        "id": "tq58YgzftcvT",
        "colab_type": "code",
        "colab": {}
      },
      "source": [
        "yhat = cross_val_predict(lre,x_data[['horsepower']], y_data,cv=4)\n",
        "yhat[0:5]"
      ],
      "execution_count": 0,
      "outputs": []
    },
    {
      "cell_type": "markdown",
      "metadata": {
        "id": "2wS8_x8ltcvW",
        "colab_type": "text"
      },
      "source": [
        "<h1 id=\"ref2\">Part 2: Overfitting, Underfitting and Model Selection</h1>\n",
        "\n",
        "<p>It turns out that the test data sometimes referred to as the out of sample data is a much better measure of how well your model performs in the real world.  One reason for this is overfitting; let's go over some examples. It turns out these differences are more apparent in Multiple Linear Regression and Polynomial Regression so we will explore overfitting in that context.</p>"
      ]
    },
    {
      "cell_type": "markdown",
      "metadata": {
        "id": "kVq6wC_DtcvX",
        "colab_type": "text"
      },
      "source": [
        "Let's create Multiple linear regression objects and train the model using <b>'horsepower'</b>, <b>'curb-weight'</b>, <b>'engine-size'</b> and <b>'highway-mpg'</b> as features."
      ]
    },
    {
      "cell_type": "code",
      "metadata": {
        "id": "DCtYXlfutcvY",
        "colab_type": "code",
        "colab": {}
      },
      "source": [
        "lr = LinearRegression()\n",
        "lr.fit(x_train[['horsepower', 'curb-weight', 'engine-size', 'highway-mpg']], y_train)"
      ],
      "execution_count": 0,
      "outputs": []
    },
    {
      "cell_type": "markdown",
      "metadata": {
        "id": "MkOdxhfCtcvb",
        "colab_type": "text"
      },
      "source": [
        "Prediction using training data:"
      ]
    },
    {
      "cell_type": "code",
      "metadata": {
        "id": "nKbPpwVStcvc",
        "colab_type": "code",
        "colab": {}
      },
      "source": [
        "yhat_train = lr.predict(x_train[['horsepower', 'curb-weight', 'engine-size', 'highway-mpg']])\n",
        "yhat_train[0:5]"
      ],
      "execution_count": 0,
      "outputs": []
    },
    {
      "cell_type": "markdown",
      "metadata": {
        "id": "2JvS3GgLtcvg",
        "colab_type": "text"
      },
      "source": [
        "Prediction using test data: "
      ]
    },
    {
      "cell_type": "code",
      "metadata": {
        "id": "D0rzN8Bxtcvg",
        "colab_type": "code",
        "colab": {}
      },
      "source": [
        "yhat_test = lr.predict(x_test[['horsepower', 'curb-weight', 'engine-size', 'highway-mpg']])\n",
        "yhat_test[0:5]"
      ],
      "execution_count": 0,
      "outputs": []
    },
    {
      "cell_type": "markdown",
      "metadata": {
        "id": "dHvJGqahtcvl",
        "colab_type": "text"
      },
      "source": [
        "Let's perform some model evaluation using our training and testing data separately. First  we import the seaborn and matplotlibb library for plotting."
      ]
    },
    {
      "cell_type": "code",
      "metadata": {
        "id": "e1BSNACStcvo",
        "colab_type": "code",
        "colab": {}
      },
      "source": [
        "import matplotlib.pyplot as plt\n",
        "%matplotlib inline\n",
        "import seaborn as sns"
      ],
      "execution_count": 0,
      "outputs": []
    },
    {
      "cell_type": "markdown",
      "metadata": {
        "id": "UDaOpbhxtcvv",
        "colab_type": "text"
      },
      "source": [
        "Let's examine the distribution of the predicted values of the training data."
      ]
    },
    {
      "cell_type": "code",
      "metadata": {
        "id": "_kE5k4estcvw",
        "colab_type": "code",
        "colab": {}
      },
      "source": [
        "Title = 'Distribution  Plot of  Predicted Value Using Training Data vs Training Data Distribution'\n",
        "DistributionPlot(y_train, yhat_train, \"Actual Values (Train)\", \"Predicted Values (Train)\", Title)"
      ],
      "execution_count": 0,
      "outputs": []
    },
    {
      "cell_type": "markdown",
      "metadata": {
        "id": "Rt0TdqQWtcv0",
        "colab_type": "text"
      },
      "source": [
        "Figure 1: Plot of predicted values using the training data compared to the training data. "
      ]
    },
    {
      "cell_type": "markdown",
      "metadata": {
        "id": "6W1UDteOtcv1",
        "colab_type": "text"
      },
      "source": [
        "So far the model seems to be doing well in learning from the training dataset. But what happens when the model encounters new data from the testing dataset? When the model generates new values from the test data, we see the distribution of the predicted values is much different from the actual target values. "
      ]
    },
    {
      "cell_type": "code",
      "metadata": {
        "id": "jdh_3fcztcv1",
        "colab_type": "code",
        "colab": {}
      },
      "source": [
        "Title='Distribution  Plot of  Predicted Value Using Test Data vs Data Distribution of Test Data'\n",
        "DistributionPlot(y_test,yhat_test,\"Actual Values (Test)\",\"Predicted Values (Test)\",Title)"
      ],
      "execution_count": 0,
      "outputs": []
    },
    {
      "cell_type": "markdown",
      "metadata": {
        "id": "Nkv_NAfOtcv-",
        "colab_type": "text"
      },
      "source": [
        "Figur 2: Plot of predicted value using the test data compared to the test data. "
      ]
    },
    {
      "cell_type": "markdown",
      "metadata": {
        "id": "l-mQe9Katcv_",
        "colab_type": "text"
      },
      "source": [
        "<p>Comparing Figure 1 and Figure 2; it is evident the distribution of the test data in Figure 1 is much better at fitting the data. This difference in Figure 2 is apparent where the ranges are from 5000 to 15 000. This is where the distribution shape is exceptionally different. Let's see if polynomial regression also exhibits a drop in the prediction accuracy when analysing the test dataset.</p>"
      ]
    },
    {
      "cell_type": "code",
      "metadata": {
        "id": "b_81meqstcwB",
        "colab_type": "code",
        "colab": {}
      },
      "source": [
        "from sklearn.preprocessing import PolynomialFeatures"
      ],
      "execution_count": 0,
      "outputs": []
    },
    {
      "cell_type": "markdown",
      "metadata": {
        "id": "cqzEvwSgtcwH",
        "colab_type": "text"
      },
      "source": [
        "<h4>Overfitting</h4>\n",
        "<p>Overfitting occurs when the model fits the noise, not the underlying process. Therefore when testing your model using the test-set, your model does not perform as well as it is modelling noise, not the underlying process that generated the relationship. Let's create a degree 5 polynomial model.</p>"
      ]
    },
    {
      "cell_type": "markdown",
      "metadata": {
        "id": "9x7tD7nitcwI",
        "colab_type": "text"
      },
      "source": [
        "Let's use 55 percent of the data for testing and the rest for training:"
      ]
    },
    {
      "cell_type": "code",
      "metadata": {
        "id": "-R213HprtcwJ",
        "colab_type": "code",
        "colab": {}
      },
      "source": [
        "x_train, x_test, y_train, y_test = train_test_split(x_data, y_data, test_size=0.45, random_state=0)"
      ],
      "execution_count": 0,
      "outputs": []
    },
    {
      "cell_type": "markdown",
      "metadata": {
        "id": "NB1INnxrtcwO",
        "colab_type": "text"
      },
      "source": [
        "We will perform a degree 5 polynomial transformation on the feature <b>'horse power'</b>. "
      ]
    },
    {
      "cell_type": "code",
      "metadata": {
        "id": "WHhvromLtcwP",
        "colab_type": "code",
        "colab": {}
      },
      "source": [
        "pr = PolynomialFeatures(degree=5)\n",
        "x_train_pr = pr.fit_transform(x_train[['horsepower']])\n",
        "x_test_pr = pr.fit_transform(x_test[['horsepower']])\n",
        "pr"
      ],
      "execution_count": 0,
      "outputs": []
    },
    {
      "cell_type": "markdown",
      "metadata": {
        "id": "1wilqZfotcwT",
        "colab_type": "text"
      },
      "source": [
        "Now let's create a linear regression model \"poly\" and train it."
      ]
    },
    {
      "cell_type": "code",
      "metadata": {
        "id": "iul0CvdntcwU",
        "colab_type": "code",
        "colab": {}
      },
      "source": [
        "poly = LinearRegression()\n",
        "poly.fit(x_train_pr, y_train)"
      ],
      "execution_count": 0,
      "outputs": []
    },
    {
      "cell_type": "markdown",
      "metadata": {
        "id": "YdNZd2-FtcwX",
        "colab_type": "text"
      },
      "source": [
        "We can see the output of our model using the method  \"predict.\" then assign the values to \"yhat\"."
      ]
    },
    {
      "cell_type": "code",
      "metadata": {
        "id": "O8GPpkHStcwY",
        "colab_type": "code",
        "colab": {}
      },
      "source": [
        "yhat = poly.predict(x_test_pr)\n",
        "yhat[0:5]"
      ],
      "execution_count": 0,
      "outputs": []
    },
    {
      "cell_type": "markdown",
      "metadata": {
        "id": "3Sy6yFTotcwb",
        "colab_type": "text"
      },
      "source": [
        "Let's take the first five predicted values and compare it to the actual targets. "
      ]
    },
    {
      "cell_type": "code",
      "metadata": {
        "id": "ophrTRGetcwc",
        "colab_type": "code",
        "colab": {}
      },
      "source": [
        "print(\"Predicted values:\", yhat[0:4])\n",
        "print(\"True values:\", y_test[0:4].values)"
      ],
      "execution_count": 0,
      "outputs": []
    },
    {
      "cell_type": "markdown",
      "metadata": {
        "id": "234-ID1Ktcwf",
        "colab_type": "text"
      },
      "source": [
        "We will use the function \"PollyPlot\" that we defined at the beginning of the lab to display the training data, testing data, and the predicted function."
      ]
    },
    {
      "cell_type": "code",
      "metadata": {
        "scrolled": false,
        "id": "-AUGHZR0tcwg",
        "colab_type": "code",
        "colab": {}
      },
      "source": [
        "PollyPlot(x_train[['horsepower']], x_test[['horsepower']], y_train, y_test, poly,pr)"
      ],
      "execution_count": 0,
      "outputs": []
    },
    {
      "cell_type": "markdown",
      "metadata": {
        "id": "W0hsN4Iatcwj",
        "colab_type": "text"
      },
      "source": [
        "Figur 4 A polynomial regression model, red dots represent training data, green dots represent test data, and the blue line represents the model prediction. "
      ]
    },
    {
      "cell_type": "markdown",
      "metadata": {
        "id": "uOe0ddGVtcwj",
        "colab_type": "text"
      },
      "source": [
        "We see that the estimated function appears to track the data but around 200 horsepower, the function begins to diverge from the data points. "
      ]
    },
    {
      "cell_type": "markdown",
      "metadata": {
        "id": "qobTYAINtcwk",
        "colab_type": "text"
      },
      "source": [
        " R^2 of the training data:"
      ]
    },
    {
      "cell_type": "code",
      "metadata": {
        "id": "q4svGolVtcwk",
        "colab_type": "code",
        "colab": {}
      },
      "source": [
        "poly.score(x_train_pr, y_train)"
      ],
      "execution_count": 0,
      "outputs": []
    },
    {
      "cell_type": "markdown",
      "metadata": {
        "id": "8IKmmujPtcwn",
        "colab_type": "text"
      },
      "source": [
        " R^2 of the test data:"
      ]
    },
    {
      "cell_type": "code",
      "metadata": {
        "id": "e42m9geqtcwn",
        "colab_type": "code",
        "colab": {}
      },
      "source": [
        "poly.score(x_test_pr, y_test)"
      ],
      "execution_count": 0,
      "outputs": []
    },
    {
      "cell_type": "markdown",
      "metadata": {
        "id": "WXxDYOf-tcwr",
        "colab_type": "text"
      },
      "source": [
        "We see the R^2 for the training data is 0.5567 while the R^2 on the test data was -29.87.  The lower the R^2, the worse the model, a Negative R^2 is a sign of overfitting."
      ]
    },
    {
      "cell_type": "markdown",
      "metadata": {
        "id": "zsmkA1D1tcwr",
        "colab_type": "text"
      },
      "source": [
        "Let's see how the R^2 changes on the test data for different order polynomials and plot the results:"
      ]
    },
    {
      "cell_type": "code",
      "metadata": {
        "id": "345hvu4utcws",
        "colab_type": "code",
        "colab": {}
      },
      "source": [
        "Rsqu_test = []\n",
        "\n",
        "order = [1, 2, 3, 4]\n",
        "for n in order:\n",
        "    pr = PolynomialFeatures(degree=n)\n",
        "    \n",
        "    x_train_pr = pr.fit_transform(x_train[['horsepower']])\n",
        "    \n",
        "    x_test_pr = pr.fit_transform(x_test[['horsepower']])    \n",
        "    \n",
        "    lr.fit(x_train_pr, y_train)\n",
        "    \n",
        "    Rsqu_test.append(lr.score(x_test_pr, y_test))\n",
        "\n",
        "plt.plot(order, Rsqu_test)\n",
        "plt.xlabel('order')\n",
        "plt.ylabel('R^2')\n",
        "plt.title('R^2 Using Test Data')\n",
        "plt.text(3, 0.75, 'Maximum R^2 ')    "
      ],
      "execution_count": 0,
      "outputs": []
    },
    {
      "cell_type": "markdown",
      "metadata": {
        "id": "1PfYpNhFtcwy",
        "colab_type": "text"
      },
      "source": [
        "We see the R^2 gradually increases until an order three polynomial is used. Then the  R^2 dramatically decreases at four."
      ]
    },
    {
      "cell_type": "markdown",
      "metadata": {
        "id": "9zi3J8satcw0",
        "colab_type": "text"
      },
      "source": [
        "The following function will be used in the next section; please run the cell."
      ]
    },
    {
      "cell_type": "code",
      "metadata": {
        "id": "gX64ZjuZtcw0",
        "colab_type": "code",
        "colab": {}
      },
      "source": [
        "def f(order, test_data):\n",
        "    x_train, x_test, y_train, y_test = train_test_split(x_data, y_data, test_size=test_data, random_state=0)\n",
        "    pr = PolynomialFeatures(degree=order)\n",
        "    x_train_pr = pr.fit_transform(x_train[['horsepower']])\n",
        "    x_test_pr = pr.fit_transform(x_test[['horsepower']])\n",
        "    poly = LinearRegression()\n",
        "    poly.fit(x_train_pr,y_train)\n",
        "    PollyPlot(x_train[['horsepower']], x_test[['horsepower']], y_train,y_test, poly, pr)"
      ],
      "execution_count": 0,
      "outputs": []
    },
    {
      "cell_type": "markdown",
      "metadata": {
        "id": "3Tmtm_VQtcw3",
        "colab_type": "text"
      },
      "source": [
        "The following interface allows you to experiment with different polynomial orders and different amounts of data. "
      ]
    },
    {
      "cell_type": "code",
      "metadata": {
        "id": "I1zmceELtcw3",
        "colab_type": "code",
        "colab": {}
      },
      "source": [
        "interact(f, order=(0, 6, 1), test_data=(0.05, 0.95, 0.05))"
      ],
      "execution_count": 0,
      "outputs": []
    },
    {
      "cell_type": "markdown",
      "metadata": {
        "id": "HRE8xIW6tcw9",
        "colab_type": "text"
      },
      "source": [
        "<div class=\"alert alert-danger alertdanger\" style=\"margin-top: 20px\">\n",
        "<h1> Question  #4a):</h1>\n",
        "\n",
        "<b>We can perform polynomial transformations with more than one feature. Create a \"PolynomialFeatures\" object \"pr1\" of degree two?</b>\n",
        "</div>"
      ]
    },
    {
      "cell_type": "markdown",
      "metadata": {
        "id": "KXbgP-KGtcw-",
        "colab_type": "text"
      },
      "source": [
        "Double-click <b>here</b> for the solution.\n",
        "\n",
        "<!-- The answer is below:\n",
        "\n",
        "pr1=PolynomialFeatures(degree=2)\n",
        "\n",
        "-->"
      ]
    },
    {
      "cell_type": "markdown",
      "metadata": {
        "id": "LHHKzyt1tcw-",
        "colab_type": "text"
      },
      "source": [
        "<div class=\"alert alert-danger alertdanger\" style=\"margin-top: 20px\">\n",
        "<h1> Question  #4b): </h1>\n",
        "\n",
        "<b> \n",
        " Transform the training and testing samples for the features 'horsepower', 'curb-weight', 'engine-size' and 'highway-mpg'. Hint: use the method \"fit_transform\" \n",
        "?</b>\n",
        "</div>"
      ]
    },
    {
      "cell_type": "markdown",
      "metadata": {
        "id": "TlTLdG9stcw_",
        "colab_type": "text"
      },
      "source": [
        "Double-click <b>here</b> for the solution.\n",
        "\n",
        "<!-- The answer is below:\n",
        "\n",
        "x_train_pr1=pr.fit_transform(x_train[['horsepower', 'curb-weight', 'engine-size', 'highway-mpg']])\n",
        "\n",
        "x_test_pr1=pr.fit_transform(x_test[['horsepower', 'curb-weight', 'engine-size', 'highway-mpg']])\n",
        "\n",
        "-->"
      ]
    },
    {
      "cell_type": "markdown",
      "metadata": {
        "id": "c7oiuuETtcw_",
        "colab_type": "text"
      },
      "source": [
        "<!-- The answer is below:\n",
        "\n",
        "x_train_pr1=pr.fit_transform(x_train[['horsepower', 'curb-weight', 'engine-size', 'highway-mpg']])\n",
        "x_test_pr1=pr.fit_transform(x_test[['horsepower', 'curb-weight', 'engine-size', 'highway-mpg']])\n",
        "\n",
        "-->"
      ]
    },
    {
      "cell_type": "markdown",
      "metadata": {
        "id": "QZP13Jqxtcw_",
        "colab_type": "text"
      },
      "source": [
        "<div class=\"alert alert-danger alertdanger\" style=\"margin-top: 20px\">\n",
        "<h1> Question  #4c): </h1>\n",
        "<b> \n",
        "How many dimensions does the new feature have? Hint: use the attribute \"shape\"\n",
        "</b>\n",
        "</div>"
      ]
    },
    {
      "cell_type": "markdown",
      "metadata": {
        "id": "aL5s3di3tcxA",
        "colab_type": "text"
      },
      "source": [
        "Double-click <b>here</b> for the solution.\n",
        "\n",
        "<!-- The answer is below:\n",
        "\n",
        "There are now 15 features: x_train_pr1.shape \n",
        "\n",
        "-->"
      ]
    },
    {
      "cell_type": "markdown",
      "metadata": {
        "id": "HAjV1KOmtcxD",
        "colab_type": "text"
      },
      "source": [
        "<div class=\"alert alert-danger alertdanger\" style=\"margin-top: 20px\">\n",
        "<h1> Question  #4d): </h1>\n",
        "\n",
        "<b> \n",
        "Create a linear regression model \"poly1\" and train the object using the method \"fit\" using the polynomial features?</b>\n",
        "</div>"
      ]
    },
    {
      "cell_type": "markdown",
      "metadata": {
        "id": "iW_mUOlstcxD",
        "colab_type": "text"
      },
      "source": [
        "Double-click <b>here</b> for the solution.\n",
        "\n",
        "<!-- The answer is below:\n",
        "\n",
        "poly1=linear_model.LinearRegression().fit(x_train_pr1,y_train)\n",
        "\n",
        "-->"
      ]
    },
    {
      "cell_type": "markdown",
      "metadata": {
        "id": "sKgzFzqYtcxE",
        "colab_type": "text"
      },
      "source": [
        " <div class=\"alert alert-danger alertdanger\" style=\"margin-top: 20px\">\n",
        "<h1> Question  #4e): </h1>\n",
        "<b>Use the method  \"predict\" to predict an output on the polynomial features, then use the function \"DistributionPlot\"  to display the distribution of the predicted output vs the test data?</b>\n",
        "</div>"
      ]
    },
    {
      "cell_type": "markdown",
      "metadata": {
        "id": "yDoONGXItcxE",
        "colab_type": "text"
      },
      "source": [
        "Double-click <b>here</b> for the solution.\n",
        "\n",
        "<!-- The answer is below:\n",
        "\n",
        "yhat_test1=poly1.predict(x_train_pr1)\n",
        "Title='Distribution  Plot of  Predicted Value Using Test Data vs Data Distribution of Test Data'\n",
        "DistributionPlot(y_test, yhat_test1, \"Actual Values (Test)\", \"Predicted Values (Test)\", Title)\n",
        "\n",
        "-->"
      ]
    },
    {
      "cell_type": "markdown",
      "metadata": {
        "id": "fOeJ-rretcxG",
        "colab_type": "text"
      },
      "source": [
        "<div class=\"alert alert-danger alertdanger\" style=\"margin-top: 20px\">\n",
        "<h1> Question  #4f): </h1>\n",
        "\n",
        "<b>Use the distribution plot to determine the two regions were the predicted prices are less accurate than the actual prices.</b>\n",
        "</div>"
      ]
    },
    {
      "cell_type": "markdown",
      "metadata": {
        "id": "GsgfdMOqtcxH",
        "colab_type": "text"
      },
      "source": [
        "Double-click <b>here</b> for the solution.\n",
        "\n",
        "<!-- The answer is below:\n",
        "\n",
        "The predicted value is lower than actual value for cars where the price  $ 10,000 range, conversely the predicted price is larger than the price cost in the $30, 000 to $40,000 range. As such the model is not as accurate in these ranges .\n",
        "    \n",
        "-->\n",
        "\n",
        "<img src = \"https://ibm.box.com/shared/static/c35ipv9zeanu7ynsnppb8gjo2re5ugeg.png\" width = 700, align = \"center\">\n"
      ]
    },
    {
      "cell_type": "markdown",
      "metadata": {
        "id": "-k1J0YQhtcxH",
        "colab_type": "text"
      },
      "source": [
        "<h2 id=\"ref3\">Part 3: Ridge regression</h2> "
      ]
    },
    {
      "cell_type": "markdown",
      "metadata": {
        "id": "_vOcZIDctcxI",
        "colab_type": "text"
      },
      "source": [
        " In this section, we will review Ridge Regression we will see how the parameter Alfa changes the model. Just a note here our test data will be used as validation data."
      ]
    },
    {
      "cell_type": "markdown",
      "metadata": {
        "id": "zjuKq6bZtcxI",
        "colab_type": "text"
      },
      "source": [
        " Let's perform a degree two polynomial transformation on our data. "
      ]
    },
    {
      "cell_type": "code",
      "metadata": {
        "id": "nrqAnF6-tcxJ",
        "colab_type": "code",
        "colab": {}
      },
      "source": [
        "pr=PolynomialFeatures(degree=2)\n",
        "x_train_pr=pr.fit_transform(x_train[['horsepower', 'curb-weight', 'engine-size', 'highway-mpg','normalized-losses','symboling']])\n",
        "x_test_pr=pr.fit_transform(x_test[['horsepower', 'curb-weight', 'engine-size', 'highway-mpg','normalized-losses','symboling']])"
      ],
      "execution_count": 0,
      "outputs": []
    },
    {
      "cell_type": "markdown",
      "metadata": {
        "id": "kgFBcCVJtcxN",
        "colab_type": "text"
      },
      "source": [
        " Let's import  <b>Ridge</b>  from the module <b>linear models</b>."
      ]
    },
    {
      "cell_type": "code",
      "metadata": {
        "id": "5l7rh2J7tcxO",
        "colab_type": "code",
        "colab": {}
      },
      "source": [
        "from sklearn.linear_model import Ridge"
      ],
      "execution_count": 0,
      "outputs": []
    },
    {
      "cell_type": "markdown",
      "metadata": {
        "id": "6cSWQL0etcxS",
        "colab_type": "text"
      },
      "source": [
        "Let's create a Ridge regression object, setting the regularization parameter to 0.1 "
      ]
    },
    {
      "cell_type": "code",
      "metadata": {
        "id": "ZZ4tJ6nKtcxS",
        "colab_type": "code",
        "colab": {}
      },
      "source": [
        "RigeModel=Ridge(alpha=0.1)"
      ],
      "execution_count": 0,
      "outputs": []
    },
    {
      "cell_type": "markdown",
      "metadata": {
        "id": "NHyig2PntcxY",
        "colab_type": "text"
      },
      "source": [
        "Like regular regression, you can fit the model using the method <b>fit</b>."
      ]
    },
    {
      "cell_type": "code",
      "metadata": {
        "id": "caE3Y_7gtcxZ",
        "colab_type": "code",
        "colab": {}
      },
      "source": [
        "RigeModel.fit(x_train_pr, y_train)"
      ],
      "execution_count": 0,
      "outputs": []
    },
    {
      "cell_type": "markdown",
      "metadata": {
        "id": "gakgDPmPtcxe",
        "colab_type": "text"
      },
      "source": [
        " Similarly, you can obtain a prediction: "
      ]
    },
    {
      "cell_type": "code",
      "metadata": {
        "id": "C0-XBiqktcxf",
        "colab_type": "code",
        "colab": {}
      },
      "source": [
        "yhat = RigeModel.predict(x_test_pr)"
      ],
      "execution_count": 0,
      "outputs": []
    },
    {
      "cell_type": "markdown",
      "metadata": {
        "id": "lNF6S5oftcxj",
        "colab_type": "text"
      },
      "source": [
        "Let's compare the first five predicted samples to our test set "
      ]
    },
    {
      "cell_type": "code",
      "metadata": {
        "id": "QPwXszGntcxj",
        "colab_type": "code",
        "colab": {}
      },
      "source": [
        "print('predicted:', yhat[0:4])\n",
        "print('test set :', y_test[0:4].values)"
      ],
      "execution_count": 0,
      "outputs": []
    },
    {
      "cell_type": "markdown",
      "metadata": {
        "id": "CjQz7QVctcxm",
        "colab_type": "text"
      },
      "source": [
        "We select the value of Alfa that minimizes the test error, for example, we can use a for loop. "
      ]
    },
    {
      "cell_type": "code",
      "metadata": {
        "id": "adGXrcUotcxm",
        "colab_type": "code",
        "colab": {}
      },
      "source": [
        "Rsqu_test = []\n",
        "Rsqu_train = []\n",
        "dummy1 = []\n",
        "ALFA = 10 * np.array(range(0,1000))\n",
        "for alfa in ALFA:\n",
        "    RigeModel = Ridge(alpha=alfa) \n",
        "    RigeModel.fit(x_train_pr, y_train)\n",
        "    Rsqu_test.append(RigeModel.score(x_test_pr, y_test))\n",
        "    Rsqu_train.append(RigeModel.score(x_train_pr, y_train))"
      ],
      "execution_count": 0,
      "outputs": []
    },
    {
      "cell_type": "markdown",
      "metadata": {
        "id": "flvSoniytcxp",
        "colab_type": "text"
      },
      "source": [
        "We can plot out the value of R^2 for different Alphas "
      ]
    },
    {
      "cell_type": "code",
      "metadata": {
        "id": "fGZj2Xpptcxp",
        "colab_type": "code",
        "colab": {}
      },
      "source": [
        "width = 12\n",
        "height = 10\n",
        "plt.figure(figsize=(width, height))\n",
        "\n",
        "plt.plot(ALFA,Rsqu_test, label='validation data  ')\n",
        "plt.plot(ALFA,Rsqu_train, 'r', label='training Data ')\n",
        "plt.xlabel('alpha')\n",
        "plt.ylabel('R^2')\n",
        "plt.legend()"
      ],
      "execution_count": 0,
      "outputs": []
    },
    {
      "cell_type": "markdown",
      "metadata": {
        "id": "HDU_msgstcxt",
        "colab_type": "text"
      },
      "source": [
        "Figure 6:The blue line represents the R^2 of the test data, and the red line represents the R^2 of the training data. The x-axis represents the different values of Alfa "
      ]
    },
    {
      "cell_type": "markdown",
      "metadata": {
        "id": "ObNYSZH3tcxu",
        "colab_type": "text"
      },
      "source": [
        "The red line in figure 6 represents the  R^2 of the test data, as Alpha increases the R^2 decreases; therefore as Alfa increases the model performs worse on the test data.  The blue line represents the R^2 on the validation data, as the value for Alfa increases the R^2 decreases.   "
      ]
    },
    {
      "cell_type": "markdown",
      "metadata": {
        "id": "oDG1vpxztcxu",
        "colab_type": "text"
      },
      "source": [
        "<div class=\"alert alert-danger alertdanger\" style=\"margin-top: 20px\">\n",
        "<h1> Question  #5): </h1>\n",
        "\n",
        "Perform Ridge regression and calculate the R^2 using the polynomial features, use the training data to train the model and test data to test the model. The parameter alpha should be set to  10.\n",
        "</div>"
      ]
    },
    {
      "cell_type": "code",
      "metadata": {
        "id": "tKeuN44jtcxv",
        "colab_type": "code",
        "colab": {}
      },
      "source": [
        "# Write your code below and press Shift+Enter to execute \n"
      ],
      "execution_count": 0,
      "outputs": []
    },
    {
      "cell_type": "markdown",
      "metadata": {
        "id": "a_ozGYZltcxx",
        "colab_type": "text"
      },
      "source": [
        "Double-click <b>here</b> for the solution.\n",
        "\n",
        "<!-- The answer is below:\n",
        "\n",
        "RigeModel = Ridge(alpha=0) \n",
        "RigeModel.fit(x_train_pr, y_train)\n",
        "RigeModel.score(x_test_pr, y_test)\n",
        "\n",
        "-->"
      ]
    },
    {
      "cell_type": "markdown",
      "metadata": {
        "id": "hgBXvTW2tcxy",
        "colab_type": "text"
      },
      "source": [
        "<h2 id=\"ref4\">Part 4: Grid Search</h2>"
      ]
    },
    {
      "cell_type": "markdown",
      "metadata": {
        "id": "7qhu_SRytcxy",
        "colab_type": "text"
      },
      "source": [
        "The term Alfa is a hyperparameter, sklearn has the class  <b>GridSearchCV</b> to make the process of finding the best hyperparameter simpler."
      ]
    },
    {
      "cell_type": "markdown",
      "metadata": {
        "id": "GfxqUqQ3tcxz",
        "colab_type": "text"
      },
      "source": [
        "Let's import <b>GridSearchCV</b> from  the module <b>model_selection</b>."
      ]
    },
    {
      "cell_type": "code",
      "metadata": {
        "id": "0LDwvrLBtcxz",
        "colab_type": "code",
        "colab": {}
      },
      "source": [
        "from sklearn.model_selection import GridSearchCV"
      ],
      "execution_count": 0,
      "outputs": []
    },
    {
      "cell_type": "markdown",
      "metadata": {
        "id": "DNCf6hWUtcx1",
        "colab_type": "text"
      },
      "source": [
        "We create a dictionary of parameter values:"
      ]
    },
    {
      "cell_type": "code",
      "metadata": {
        "id": "UoPtiGXStcx2",
        "colab_type": "code",
        "colab": {}
      },
      "source": [
        "parameters1= [{'alpha': [0.001,0.1,1, 10, 100, 1000, 10000, 100000, 100000]}]\n",
        "parameters1"
      ],
      "execution_count": 0,
      "outputs": []
    },
    {
      "cell_type": "markdown",
      "metadata": {
        "id": "RvzezYgmtcx7",
        "colab_type": "text"
      },
      "source": [
        "Create a ridge regions object:"
      ]
    },
    {
      "cell_type": "code",
      "metadata": {
        "id": "wcZSCBRwtcx8",
        "colab_type": "code",
        "colab": {}
      },
      "source": [
        "RR=Ridge()\n",
        "RR"
      ],
      "execution_count": 0,
      "outputs": []
    },
    {
      "cell_type": "markdown",
      "metadata": {
        "id": "Sw3g7jr0tcyB",
        "colab_type": "text"
      },
      "source": [
        "Create a ridge grid search object "
      ]
    },
    {
      "cell_type": "code",
      "metadata": {
        "id": "EZ2-qE8itcyC",
        "colab_type": "code",
        "colab": {}
      },
      "source": [
        "Grid1 = GridSearchCV(RR, parameters1,cv=4)"
      ],
      "execution_count": 0,
      "outputs": []
    },
    {
      "cell_type": "markdown",
      "metadata": {
        "id": "-Dv-ctGPtcyE",
        "colab_type": "text"
      },
      "source": [
        "Fit the model "
      ]
    },
    {
      "cell_type": "code",
      "metadata": {
        "id": "wmsGbLfftcyF",
        "colab_type": "code",
        "colab": {}
      },
      "source": [
        "Grid1.fit(x_data[['horsepower', 'curb-weight', 'engine-size', 'highway-mpg']], y_data)"
      ],
      "execution_count": 0,
      "outputs": []
    },
    {
      "cell_type": "markdown",
      "metadata": {
        "id": "DBcB17FetcyI",
        "colab_type": "text"
      },
      "source": [
        "The object finds the best parameter values on the validation data. We can obtain the estimator with the best parameters and assign it to the variable BestRR as follows:"
      ]
    },
    {
      "cell_type": "code",
      "metadata": {
        "id": "Fp4PKKQNtcyI",
        "colab_type": "code",
        "colab": {}
      },
      "source": [
        "BestRR=Grid1.best_estimator_\n",
        "BestRR"
      ],
      "execution_count": 0,
      "outputs": []
    },
    {
      "cell_type": "markdown",
      "metadata": {
        "id": "xQSJ7NJytcyL",
        "colab_type": "text"
      },
      "source": [
        " We now test our model on the test data "
      ]
    },
    {
      "cell_type": "code",
      "metadata": {
        "id": "xN5tF57-tcyL",
        "colab_type": "code",
        "colab": {}
      },
      "source": [
        "BestRR.score(x_test[['horsepower', 'curb-weight', 'engine-size', 'highway-mpg']], y_test)"
      ],
      "execution_count": 0,
      "outputs": []
    },
    {
      "cell_type": "markdown",
      "metadata": {
        "id": "yEPHEVDItcyO",
        "colab_type": "text"
      },
      "source": [
        "<div class=\"alert alert-danger alertdanger\" style=\"margin-top: 20px\">\n",
        "<h1> Question  #6): </h1>\n",
        "Perform a grid search for the alpha parameter and the normalization parameter, then find the best values of the parameters\n",
        "</div>"
      ]
    },
    {
      "cell_type": "code",
      "metadata": {
        "id": "1iwemH1gtcyP",
        "colab_type": "code",
        "colab": {}
      },
      "source": [
        "# Write your code below and press Shift+Enter to execute \n"
      ],
      "execution_count": 0,
      "outputs": []
    },
    {
      "cell_type": "markdown",
      "metadata": {
        "id": "ylzeeGN5tcyS",
        "colab_type": "text"
      },
      "source": [
        "Double-click <b>here</b> for the solution.\n",
        "\n",
        "<!-- The answer is below:\n",
        "\n",
        "parameters2= [{'alpha': [0.001,0.1,1, 10, 100, 1000,10000,100000,100000],'normalize':[True,False]} ]\n",
        "Grid2 = GridSearchCV(Ridge(), parameters2,cv=4)\n",
        "Grid2.fit(x_data[['horsepower', 'curb-weight', 'engine-size', 'highway-mpg']],y_data)\n",
        "Grid2.best_estimator_\n",
        "\n",
        "-->"
      ]
    },
    {
      "cell_type": "markdown",
      "metadata": {
        "id": "1kYiplnAtcyT",
        "colab_type": "text"
      },
      "source": [
        "<h1>Thank you for completing this notebook!</h1>"
      ]
    },
    {
      "cell_type": "markdown",
      "metadata": {
        "id": "jHrMCcSEtcyU",
        "colab_type": "text"
      },
      "source": [
        "<div class=\"alert alert-block alert-info\" style=\"margin-top: 20px\">\n",
        "\n",
        "    <p><a href=\"https://cocl.us/DA0101EN_NotbookLink_Top_bottom\"><img src=\"https://s3-api.us-geo.objectstorage.softlayer.net/cf-courses-data/CognitiveClass/DA0101EN/Images/BottomAd.png\" width=\"750\" align=\"center\"></a></p>\n",
        "</div>"
      ]
    },
    {
      "cell_type": "markdown",
      "metadata": {
        "id": "Vp0GbT9jtcyU",
        "colab_type": "text"
      },
      "source": [
        "<h3>About the Authors:</h3>\n",
        "\n",
        "This notebook was written by <a href=\"https://www.linkedin.com/in/mahdi-noorian-58219234/\" target=\"_blank\">Mahdi Noorian PhD</a>, <a href=\"https://www.linkedin.com/in/joseph-s-50398b136/\" target=\"_blank\">Joseph Santarcangelo</a>, Bahare Talayian, Eric Xiao, Steven Dong, Parizad, Hima Vsudevan and <a href=\"https://www.linkedin.com/in/fiorellawever/\" target=\"_blank\">Fiorella Wenver</a> and <a href=\" https://www.linkedin.com/in/yi-leng-yao-84451275/ \" target=\"_blank\" >Yi Yao</a>.\n",
        "\n",
        "<p><a href=\"https://www.linkedin.com/in/joseph-s-50398b136/\" target=\"_blank\">Joseph Santarcangelo</a> is a Data Scientist at IBM, and holds a PhD in Electrical Engineering. His research focused on using Machine Learning, Signal Processing, and Computer Vision to determine how videos impact human cognition. Joseph has been working for IBM since he completed his PhD.</p>"
      ]
    },
    {
      "cell_type": "markdown",
      "metadata": {
        "id": "Qju1svDAtcyV",
        "colab_type": "text"
      },
      "source": [
        "<hr>\n",
        "<p>Copyright &copy; 2018 IBM Developer Skills Network. This notebook and its source code are released under the terms of the <a href=\"https://cognitiveclass.ai/mit-license/\">MIT License</a>.</p>"
      ]
    }
  ]
}